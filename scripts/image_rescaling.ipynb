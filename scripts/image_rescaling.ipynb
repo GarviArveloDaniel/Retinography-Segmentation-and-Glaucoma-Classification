{
  "nbformat": 4,
  "nbformat_minor": 0,
  "metadata": {
    "colab": {
      "provenance": []
    },
    "kernelspec": {
      "name": "python3",
      "display_name": "Python 3"
    },
    "language_info": {
      "name": "python"
    }
  },
  "cells": [
    {
      "cell_type": "code",
      "execution_count": null,
      "metadata": {
        "colab": {
          "base_uri": "https://localhost:8080/"
        },
        "id": "9vhh4iISEYRe",
        "outputId": "a7035ff6-c6d7-408d-e72e-e093556485c3"
      },
      "outputs": [
        {
          "output_type": "stream",
          "name": "stdout",
          "text": [
            "Requirement already satisfied: Pillow in /usr/local/lib/python3.11/dist-packages (11.2.1)\n"
          ]
        }
      ],
      "source": [
        "!pip install Pillow"
      ]
    },
    {
      "cell_type": "code",
      "source": [
        "from google.colab import drive\n",
        "drive.mount('/content/drive')"
      ],
      "metadata": {
        "colab": {
          "base_uri": "https://localhost:8080/"
        },
        "id": "A3bLEGKT6yZP",
        "outputId": "d782d7f7-fbf1-4c8a-b267-e9c5ff1167c9"
      },
      "execution_count": null,
      "outputs": [
        {
          "output_type": "stream",
          "name": "stdout",
          "text": [
            "Mounted at /content/drive\n"
          ]
        }
      ]
    },
    {
      "cell_type": "code",
      "source": [
        "from PIL import Image\n",
        "import os\n",
        "\n",
        "def resize_images(input_folder, output_folder, target_size=(256, 256)):\n",
        "\n",
        "  os.makedirs(output_folder, exist_ok=True)\n",
        "\n",
        "  for filename in os.listdir(input_folder):\n",
        "    if filename.endswith(('.jpg', '.jpeg', '.png', '.bmp')):\n",
        "      img_path = os.path.join(input_folder, filename)\n",
        "      img = Image.open(img_path)\n",
        "\n",
        "      img = img.resize(target_size, Image.Resampling.LANCZOS)\n",
        "      output_path = os.path.join(output_folder, filename)\n",
        "      img.save(output_path)\n",
        "\n",
        "input_folder = '/content/drive/MyDrive/4º Curso/Segundo cuatrimestre/TFG/Clasificación/train'\n",
        "output_folder = '/content/drive/MyDrive/4º Curso/Segundo cuatrimestre/TFG/Clasificación/train'\n",
        "resize_images(input_folder, output_folder)"
      ],
      "metadata": {
        "id": "_1Xj6AopE9GY"
      },
      "execution_count": null,
      "outputs": []
    }
  ]
}